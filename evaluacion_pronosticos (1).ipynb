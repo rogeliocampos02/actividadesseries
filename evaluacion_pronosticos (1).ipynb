{
 "cells": [
  {
   "cell_type": "markdown",
   "metadata": {
    "colab_type": "text",
    "id": "view-in-github"
   },
   "source": [
    "<a href=\"https://colab.research.google.com/github/daniel-nuno/time_series_O2024_MAF3074N/blob/main/evaluacion_pronosticos.ipynb\" target=\"_parent\"><img src=\"https://colab.research.google.com/assets/colab-badge.svg\" alt=\"Open In Colab\"/></a>"
   ]
  },
  {
   "cell_type": "markdown",
   "metadata": {
    "id": "dBqK4qMcGSsd"
   },
   "source": [
    "<br>\n",
    "<br>\n",
    "\n",
    "![iteso](https://upload.wikimedia.org/wikipedia/en/5/5f/Western_Institute_of_Technology_and_Higher_Education_logo.png)\n",
    "\n",
    "<br>\n",
    "<br>\n",
    "Clase: Series de tiempo\n",
    "<br>\n",
    "Actividad: Evaluación y Pronósticos\n",
    "<br>\n",
    "<br>\n",
    "\n",
    "* * *\n",
    "\n",
    "Docente: Daniel Nuño <br>\n",
    "Fecha: 7 de octubre 2024 <br>\n",
    "\n",
    "* * *\n",
    "\n",
    "<br>\n",
    "<br>"
   ]
  },
  {
   "cell_type": "markdown",
   "metadata": {
    "id": "XJTYGJ88HBTG"
   },
   "source": [
    "# Evaluación de pronósticos\n",
    "\n",
    "Es importante evaluar la precisión de las previsiones utilizando previsiones auténticas. Por consiguiente, el tamaño de los residuos no es una indicación fiable de la magnitud de los errores de previsión reales. La precisión de las previsiones sólo puede determinarse teniendo en cuenta el rendimiento de un modelo con datos nuevos que no se utilizaron al ajustarlo.\n",
    "\n",
    "Hay que tener en cuenta los siguientes puntos.\n",
    "\n",
    "* Un modelo que se ajuste bien a los datos de entrenamiento no necesariamente pronosticará bien.\n",
    "* Siempre se puede obtener un ajuste perfecto utilizando un modelo con suficientes parámetros.\n",
    "* Ajustar demasiado un modelo a los datos es tan malo como no identificar un patrón sistemático en los datos.\n",
    "* Algunas referencias describen el conjunto de prueba como el «conjunto de retención» porque estos datos se «retienen» de los datos utilizados para el ajuste.\n",
    "\n",
    "Otras referencias llaman al conjunto de entrenamiento «datos dentro de la muestra» y al conjunto de prueba «datos fuera de la muestra». En este libro preferimos utilizar «datos de entrenamiento» y «datos de prueba»."
   ]
  },
  {
   "cell_type": "code",
   "execution_count": 1,
   "metadata": {
    "colab": {
     "base_uri": "https://localhost:8080/"
    },
    "id": "jqHbS7yaH8io",
    "outputId": "15c5ecd8-d7d2-4ba1-df7c-130ca32eab02"
   },
   "outputs": [
    {
     "name": "stdout",
     "output_type": "stream",
     "text": [
      "Mounted at /content/drive\n"
     ]
    }
   ],
   "source": [
    "from google.colab import drive\n",
    "drive.mount('/content/drive')"
   ]
  },
  {
   "cell_type": "code",
   "execution_count": 1,
   "metadata": {
    "id": "X6zUW8FtIHnW"
   },
   "outputs": [],
   "source": [
    "import pandas as pd\n",
    "import numpy as np\n",
    "import matplotlib.pyplot as plt\n",
    "import seaborn as sns\n",
    "import datetime as dt\n",
    "import scipy as sp\n",
    "import yfinance as yf"
   ]
  },
  {
   "cell_type": "code",
   "execution_count": 2,
   "metadata": {
    "id": "jwcSdAadGfks"
   },
   "outputs": [],
   "source": [
    "data = pd.read_excel(\"inflacion.xlsx\")\n",
    "data.index = pd.to_datetime(data['Fecha'])\n",
    "del data['Fecha']\n"
   ]
  },
  {
   "cell_type": "code",
   "execution_count": 3,
   "metadata": {
    "colab": {
     "base_uri": "https://localhost:8080/",
     "height": 269
    },
    "id": "1vx9oAc3H5Fq",
    "outputId": "3f7914a6-9259-425f-b50b-192ee69653b3"
   },
   "outputs": [
    {
     "data": {
      "text/html": [
       "<div>\n",
       "<style scoped>\n",
       "    .dataframe tbody tr th:only-of-type {\n",
       "        vertical-align: middle;\n",
       "    }\n",
       "\n",
       "    .dataframe tbody tr th {\n",
       "        vertical-align: top;\n",
       "    }\n",
       "\n",
       "    .dataframe thead th {\n",
       "        text-align: right;\n",
       "    }\n",
       "</style>\n",
       "<table border=\"1\" class=\"dataframe\">\n",
       "  <thead>\n",
       "    <tr style=\"text-align: right;\">\n",
       "      <th></th>\n",
       "      <th>values</th>\n",
       "    </tr>\n",
       "    <tr>\n",
       "      <th>Fecha</th>\n",
       "      <th></th>\n",
       "    </tr>\n",
       "  </thead>\n",
       "  <tbody>\n",
       "    <tr>\n",
       "      <th>2024-03-01</th>\n",
       "      <td>4.42</td>\n",
       "    </tr>\n",
       "    <tr>\n",
       "      <th>2024-04-01</th>\n",
       "      <td>4.65</td>\n",
       "    </tr>\n",
       "    <tr>\n",
       "      <th>2024-05-01</th>\n",
       "      <td>4.69</td>\n",
       "    </tr>\n",
       "    <tr>\n",
       "      <th>2024-06-01</th>\n",
       "      <td>4.98</td>\n",
       "    </tr>\n",
       "    <tr>\n",
       "      <th>2024-07-01</th>\n",
       "      <td>5.57</td>\n",
       "    </tr>\n",
       "  </tbody>\n",
       "</table>\n",
       "</div>"
      ],
      "text/plain": [
       "            values\n",
       "Fecha             \n",
       "2024-03-01    4.42\n",
       "2024-04-01    4.65\n",
       "2024-05-01    4.69\n",
       "2024-06-01    4.98\n",
       "2024-07-01    5.57"
      ]
     },
     "execution_count": 3,
     "metadata": {},
     "output_type": "execute_result"
    }
   ],
   "source": [
    "data.tail()"
   ]
  },
  {
   "cell_type": "code",
   "execution_count": 4,
   "metadata": {
    "id": "w8t1JuY7INUQ"
   },
   "outputs": [],
   "source": [
    "training_mask = data.index > '2023-01-01'"
   ]
  },
  {
   "cell_type": "code",
   "execution_count": 5,
   "metadata": {
    "id": "8LAjRuNRIbL4"
   },
   "outputs": [],
   "source": [
    "test = data[training_mask]\n",
    "train = data[~training_mask]\n",
    "horizon = len(test)"
   ]
  },
  {
   "cell_type": "code",
   "execution_count": 6,
   "metadata": {
    "colab": {
     "base_uri": "https://localhost:8080/",
     "height": 269
    },
    "id": "2bZ6qJoPIdfN",
    "outputId": "b21c4a6e-83b1-4d63-e6df-3015f0d8de66"
   },
   "outputs": [
    {
     "data": {
      "text/html": [
       "<div>\n",
       "<style scoped>\n",
       "    .dataframe tbody tr th:only-of-type {\n",
       "        vertical-align: middle;\n",
       "    }\n",
       "\n",
       "    .dataframe tbody tr th {\n",
       "        vertical-align: top;\n",
       "    }\n",
       "\n",
       "    .dataframe thead th {\n",
       "        text-align: right;\n",
       "    }\n",
       "</style>\n",
       "<table border=\"1\" class=\"dataframe\">\n",
       "  <thead>\n",
       "    <tr style=\"text-align: right;\">\n",
       "      <th></th>\n",
       "      <th>values</th>\n",
       "    </tr>\n",
       "    <tr>\n",
       "      <th>Fecha</th>\n",
       "      <th></th>\n",
       "    </tr>\n",
       "  </thead>\n",
       "  <tbody>\n",
       "    <tr>\n",
       "      <th>2023-02-01</th>\n",
       "      <td>7.62</td>\n",
       "    </tr>\n",
       "    <tr>\n",
       "      <th>2023-03-01</th>\n",
       "      <td>6.85</td>\n",
       "    </tr>\n",
       "    <tr>\n",
       "      <th>2023-04-01</th>\n",
       "      <td>6.25</td>\n",
       "    </tr>\n",
       "    <tr>\n",
       "      <th>2023-05-01</th>\n",
       "      <td>5.84</td>\n",
       "    </tr>\n",
       "    <tr>\n",
       "      <th>2023-06-01</th>\n",
       "      <td>5.06</td>\n",
       "    </tr>\n",
       "  </tbody>\n",
       "</table>\n",
       "</div>"
      ],
      "text/plain": [
       "            values\n",
       "Fecha             \n",
       "2023-02-01    7.62\n",
       "2023-03-01    6.85\n",
       "2023-04-01    6.25\n",
       "2023-05-01    5.84\n",
       "2023-06-01    5.06"
      ]
     },
     "execution_count": 6,
     "metadata": {},
     "output_type": "execute_result"
    }
   ],
   "source": [
    "test.head()"
   ]
  },
  {
   "cell_type": "code",
   "execution_count": 7,
   "metadata": {
    "colab": {
     "base_uri": "https://localhost:8080/"
    },
    "id": "_Z0FZpw-JUFp",
    "outputId": "6efc343e-b24e-4106-e52c-63348783e820"
   },
   "outputs": [
    {
     "name": "stdout",
     "output_type": "stream",
     "text": [
      "Requirement already satisfied: statsforecast in c:\\users\\rogel\\anaconda3\\lib\\site-packages (1.7.6)\n",
      "Requirement already satisfied: utilsforecast>=0.1.4 in c:\\users\\rogel\\anaconda3\\lib\\site-packages (from statsforecast) (0.2.3)\n",
      "Requirement already satisfied: statsmodels>=0.13.2 in c:\\users\\rogel\\anaconda3\\lib\\site-packages (from statsforecast) (0.13.2)\n",
      "Requirement already satisfied: threadpoolctl in c:\\users\\rogel\\anaconda3\\lib\\site-packages (from statsforecast) (2.2.0)\n",
      "Requirement already satisfied: cloudpickle in c:\\users\\rogel\\anaconda3\\lib\\site-packages (from statsforecast) (2.0.0)\n",
      "Requirement already satisfied: fugue>=0.8.1 in c:\\users\\rogel\\anaconda3\\lib\\site-packages (from statsforecast) (0.9.1)\n",
      "Requirement already satisfied: numpy>=1.21.6 in c:\\users\\rogel\\anaconda3\\lib\\site-packages (from statsforecast) (1.21.6)\n",
      "Note: you may need to restart the kernel to use updated packages.Requirement already satisfied: pandas>=1.3.5 in c:\\users\\rogel\\anaconda3\\lib\\site-packages (from statsforecast) (1.4.2)\n",
      "Requirement already satisfied: numba>=0.55.0 in c:\\users\\rogel\\anaconda3\\lib\\site-packages (from statsforecast) (0.55.1)\n",
      "\n",
      "Requirement already satisfied: tqdm in c:\\users\\rogel\\anaconda3\\lib\\site-packages (from statsforecast) (4.64.0)\n",
      "Requirement already satisfied: coreforecast>=0.0.12 in c:\\users\\rogel\\anaconda3\\lib\\site-packages (from statsforecast) (0.0.12)\n",
      "Requirement already satisfied: scipy>=1.7.3 in c:\\users\\rogel\\anaconda3\\lib\\site-packages (from statsforecast) (1.7.3)\n",
      "Requirement already satisfied: importlib_resources in c:\\users\\rogel\\anaconda3\\lib\\site-packages (from coreforecast>=0.0.12->statsforecast) (6.4.4)\n",
      "Requirement already satisfied: adagio>=0.2.4 in c:\\users\\rogel\\anaconda3\\lib\\site-packages (from fugue>=0.8.1->statsforecast) (0.2.6)\n",
      "Requirement already satisfied: triad>=0.9.7 in c:\\users\\rogel\\anaconda3\\lib\\site-packages (from fugue>=0.8.1->statsforecast) (0.9.8)\n",
      "Requirement already satisfied: llvmlite<0.39,>=0.38.0rc1 in c:\\users\\rogel\\anaconda3\\lib\\site-packages (from numba>=0.55.0->statsforecast) (0.38.0)\n",
      "Requirement already satisfied: setuptools in c:\\users\\rogel\\anaconda3\\lib\\site-packages (from numba>=0.55.0->statsforecast) (61.2.0)\n",
      "Requirement already satisfied: python-dateutil>=2.8.1 in c:\\users\\rogel\\anaconda3\\lib\\site-packages (from pandas>=1.3.5->statsforecast) (2.8.2)\n",
      "Requirement already satisfied: pytz>=2020.1 in c:\\users\\rogel\\anaconda3\\lib\\site-packages (from pandas>=1.3.5->statsforecast) (2023.3)\n",
      "Requirement already satisfied: six>=1.5 in c:\\users\\rogel\\anaconda3\\lib\\site-packages (from python-dateutil>=2.8.1->pandas>=1.3.5->statsforecast) (1.16.0)\n",
      "Requirement already satisfied: patsy>=0.5.2 in c:\\users\\rogel\\anaconda3\\lib\\site-packages (from statsmodels>=0.13.2->statsforecast) (0.5.2)\n",
      "Requirement already satisfied: packaging>=21.3 in c:\\users\\rogel\\anaconda3\\lib\\site-packages (from statsmodels>=0.13.2->statsforecast) (21.3)\n",
      "Requirement already satisfied: pyparsing!=3.0.5,>=2.0.2 in c:\\users\\rogel\\anaconda3\\lib\\site-packages (from packaging>=21.3->statsmodels>=0.13.2->statsforecast) (3.0.4)\n",
      "Requirement already satisfied: pyarrow>=6.0.1 in c:\\users\\rogel\\anaconda3\\lib\\site-packages (from triad>=0.9.7->fugue>=0.8.1->statsforecast) (17.0.0)\n",
      "Requirement already satisfied: fs in c:\\users\\rogel\\anaconda3\\lib\\site-packages (from triad>=0.9.7->fugue>=0.8.1->statsforecast) (2.4.16)\n",
      "Requirement already satisfied: fsspec>=2022.5.0 in c:\\users\\rogel\\anaconda3\\lib\\site-packages (from triad>=0.9.7->fugue>=0.8.1->statsforecast) (2024.6.1)\n",
      "Requirement already satisfied: appdirs~=1.4.3 in c:\\users\\rogel\\anaconda3\\lib\\site-packages (from fs->triad>=0.9.7->fugue>=0.8.1->statsforecast) (1.4.4)\n",
      "Requirement already satisfied: zipp>=3.1.0 in c:\\users\\rogel\\anaconda3\\lib\\site-packages (from importlib_resources->coreforecast>=0.0.12->statsforecast) (3.7.0)\n",
      "Requirement already satisfied: colorama in c:\\users\\rogel\\anaconda3\\lib\\site-packages (from tqdm->statsforecast) (0.4.4)\n"
     ]
    }
   ],
   "source": [
    "pip install statsforecast"
   ]
  },
  {
   "cell_type": "code",
   "execution_count": 8,
   "metadata": {
    "id": "nYMbLPezJh6V"
   },
   "outputs": [],
   "source": [
    "from statsforecast.models import SeasonalNaive"
   ]
  },
  {
   "cell_type": "code",
   "execution_count": 11,
   "metadata": {
    "colab": {
     "base_uri": "https://localhost:8080/"
    },
    "id": "SbcI99V6IgpH",
    "outputId": "cdaf36cf-daa6-4846-e1fa-16ea61536dfe"
   },
   "outputs": [
    {
     "data": {
      "text/plain": [
       "array([7.28, 7.45, 7.68, 7.65, 7.99, 8.15, 8.7 , 8.7 , 8.41, 7.8 , 7.82,\n",
       "       7.91, 7.28, 7.45, 7.68, 7.65, 7.99, 8.15], dtype=float32)"
      ]
     },
     "execution_count": 11,
     "metadata": {},
     "output_type": "execute_result"
    }
   ],
   "source": [
    "\n",
    "train_values = train.values.flatten()  \n",
    "model_sn = SeasonalNaive(season_length=12)\n",
    "model_sn = model_sn.fit(y=train_values)\n",
    "y_hat_dict = model_sn.predict(h=horizon)\n",
    "\n",
    "y_hat_dict['mean']\n"
   ]
  },
  {
   "cell_type": "markdown",
   "metadata": {
    "id": "FzdodhaiLB_V"
   },
   "source": []
  },
  {
   "cell_type": "code",
   "execution_count": 12,
   "metadata": {
    "colab": {
     "base_uri": "https://localhost:8080/"
    },
    "id": "wmk4mfssMvLP",
    "outputId": "290d3f75-9bb5-4079-fc96-db846acd1b18"
   },
   "outputs": [
    {
     "data": {
      "text/plain": [
       "{'fitted': array([   nan,    nan,    nan,    nan,    nan,    nan,    nan,    nan,\n",
       "           nan,    nan,    nan,    nan,   5.2 ,   4.81,   5.01,   4.87,\n",
       "          5.09,   5.35,   5.46,   5.84,   5.11,   4.05,   4.6 ,   4.69,\n",
       "          4.93,   5.38,   5.47,   5.87,   5.87,   5.71,   5.11,   5.58,\n",
       "          5.67,   5.74,   5.34,   4.96,   4.4 ,   4.29,   4.46,   4.58,\n",
       "          4.57,   4.87,   5.35,   5.08,   5.22,   5.19,   5.7 ,   5.56,\n",
       "          6.62,   7.16,   7.52,   8.54,   9.47,   9.56,  11.95,  13.  ,\n",
       "         15.16,  16.56,  17.23,  21.37,  23.92,  25.68,  25.54,  25.26,\n",
       "         24.92,  25.13,  23.76,  23.09,  21.6 ,  22.44,  24.31,  20.6 ,\n",
       "         17.92,  15.95,  15.79,  15.2 ,  15.83,  16.65,  15.91,  15.69,\n",
       "         15.22,  13.56,  11.27,  11.31,  12.02,  13.49,  13.89,  13.72,\n",
       "         13.01,  11.56,  11.62,  11.72,  14.69,  20.53,  25.1 ,  27.2 ,\n",
       "         28.77,  29.19,  30.17,  31.22,  31.45,  32.53,  32.91,  34.35,\n",
       "         32.22,  26.13,  22.  ,  20.66,  19.53,  18.63,  17.81,  17.35,\n",
       "         17.46,  17.64,  18.3 ,  17.07,  16.35,  16.86,  16.79,  16.17,\n",
       "         17.68,  17.68,  18.05,  17.8 ,  18.18,  17.87,  17.31,  17.91,\n",
       "         18.01,  18.63,  18.93,  20.02,  21.56,  22.6 ,  23.45,  24.49,\n",
       "         24.89,  25.97,  27.94,  28.64,  28.49,  28.2 ,  28.77,  29.85,\n",
       "         27.8 ,  27.98,  28.08,  28.72,  28.57,  27.83,  26.55,  26.54,\n",
       "         27.47,  28.36,  28.6 ,  28.68,  30.86,  32.74,  34.71,  38.88,\n",
       "         44.5 ,  49.37,  54.35,  68.21,  73.95,  79.  ,  84.49,  98.84,\n",
       "        110.04, 112.95, 115.39, 117.25, 114.61, 112.5 , 112.08,  98.08,\n",
       "         93.83,  90.39,  91.87,  80.78,  73.4 ,  73.25,  72.31,  69.06,\n",
       "         67.41,  67.14,  64.49,  62.84,  62.68,  62.96,  59.2 ,  59.16,\n",
       "         60.75,  59.04,  58.43,  56.53,  55.1 ,  53.43,  53.73,  56.02,\n",
       "         57.55,  58.02,  59.82,  63.75,  65.92,  66.38,  67.62,  71.11,\n",
       "         76.44,  83.17,  85.84,  92.25,  95.96,  99.58, 103.67, 105.75,\n",
       "        104.34, 109.76, 113.69, 120.86, 125.  , 126.73, 133.44, 133.88,\n",
       "        135.18, 141.  , 143.65, 159.17, 176.83, 179.73, 175.83, 161.44,\n",
       "        147.82, 135.81, 121.79, 106.92,  95.24,  81.59,  70.5 ,  51.66,\n",
       "         34.56,  25.89,  21.05,  19.2 ,  18.54,  17.58,  16.81,  16.85,\n",
       "         17.3 ,  18.13,  18.21,  19.7 ,  22.48,  23.57,  24.4 ,  24.43,\n",
       "         24.89,  26.11,  27.13,  28.08,  28.68,  28.62,  30.21,  29.93,\n",
       "         27.11,  26.46,  26.04,  25.45,  24.51,  23.1 ,  21.97,  20.76,\n",
       "         20.25,  19.92,  19.72,  18.79,  17.95,  17.3 ,  16.82,  16.64,\n",
       "         16.28,  15.85,  15.56,  15.46,  15.32,  14.82,  12.96,  11.94,\n",
       "         11.32,  10.91,  10.44,  10.09,  10.  ,   9.87,   9.7 ,   9.62,\n",
       "          9.48,   9.14,   8.72,   8.01,   7.5 ,   7.18,   7.1 ,   7.01,\n",
       "          6.92,   6.85,   6.81,   6.74,   6.71,   6.83,   6.93,   7.05,\n",
       "         10.23,  14.31,  20.43,  29.39,  34.15,  37.72,  39.91,  41.57,\n",
       "         43.48,  45.66,  48.46,  51.97,  51.72,  48.95,  43.75,  36.93,\n",
       "         33.83,  31.82,  31.03,  30.6 ,  30.  ,  28.97,  27.77,  27.7 ,\n",
       "         26.44,  25.64,  24.46,  22.33,  21.23,  20.35,  19.7 ,  19.18,\n",
       "         18.76,  18.24,  17.77,  15.72,  15.27,  15.35,  15.27,  15.1 ,\n",
       "         14.97,  15.31,  15.41,  15.5 ,  15.92,  16.65,  17.41,  18.61,\n",
       "         19.02,  18.54,  18.26,  18.23,  18.01,  17.39,  17.04,  16.58,\n",
       "         15.83,  14.91,  13.92,  12.32,  11.02,  10.52,  10.11,   9.73,\n",
       "          9.48,   9.41,   9.12,   9.1 ,   8.85,   8.91,   8.87,   8.96,\n",
       "          8.11,   7.09,   7.17,   7.11,   6.95,   6.57,   5.88,   5.93,\n",
       "          6.14,   5.89,   5.39,   4.4 ,   4.79,   4.79,   4.66,   4.7 ,\n",
       "          4.68,   4.94,   5.51,   5.29,   4.95,   4.94,   5.39,   5.7 ,\n",
       "          5.16,   5.52,   5.64,   5.25,   4.7 ,   4.27,   4.13,   4.04,\n",
       "          4.04,   3.96,   3.98,   3.98,   4.2 ,   4.53,   4.23,   4.21,\n",
       "          4.29,   4.37,   4.49,   4.82,   5.06,   5.4 ,   5.43,   5.19,\n",
       "          4.54,   4.27,   4.39,   4.6 ,   4.6 ,   4.33,   4.47,   3.95,\n",
       "          3.51,   3.05,   2.91,   3.33,   3.94,   3.75,   3.41,   3.2 ,\n",
       "          3.  ,   3.18,   3.06,   3.47,   4.09,   4.29,   4.09,   4.05,\n",
       "          3.98,   4.11,   4.21,   3.99,   3.95,   3.98,   4.14,   4.03,\n",
       "          3.79,   3.74,   3.93,   3.76,   3.7 ,   3.72,   4.25,   4.55,\n",
       "          4.95,   5.26,   5.39,   5.57,   5.47,   5.78,   6.23,   6.53,\n",
       "          6.28,   6.2 ,   6.04,   6.17,   5.98,   5.74,   5.44,   5.08,\n",
       "          4.89,   4.5 ,   3.86,   3.57,   4.46,   4.83,   4.97,   4.27,\n",
       "          3.92,   3.69,   3.64,   3.68,   3.7 ,   4.02,   4.32,   4.4 ,\n",
       "          3.78,   3.57,   3.04,   3.36,   3.25,   3.28,   3.55,   3.42,\n",
       "          3.14,   3.2 ,   3.48,   3.82,   4.05,   3.87,   3.73,   3.41,\n",
       "          3.85,   4.34,   4.42,   4.57,   4.77,   4.6 ,   4.18,   3.57,\n",
       "          3.25,   3.55,   4.25,   4.65,   4.63,   4.09,   3.47,   3.46,\n",
       "          3.39,   3.36,   3.62,   3.97,   4.48,   4.23,   3.76,   3.5 ,\n",
       "          3.51,   3.75,   4.07,   4.15,   4.22,   4.3 ,   4.17,   4.08,\n",
       "          3.07,   3.  ,   3.14,   3.06,   2.88,   2.87,   2.74,   2.59,\n",
       "          2.52,   2.48,   2.21,   2.13,   2.61,   2.87,   2.6 ,   2.54,\n",
       "          2.6 ,   2.54,   2.65,   2.73,   2.97,   3.06,   3.31,   3.36,\n",
       "          4.72,   4.86,   5.35,   5.82,   6.16,   6.31,   6.44,   6.66,\n",
       "          6.35,   6.37,   6.63,   6.77,   5.55,   5.34,   5.04,   4.55,\n",
       "          4.51,   4.65,   4.81,   4.9 ,   5.02,   4.9 ,   4.72,   4.83,\n",
       "          4.37,   3.94,   4.  ,   4.41,   4.28,   3.95,   3.78,   3.16,\n",
       "          3.  ,   3.02,   2.97,   2.83,   3.24,   3.7 ,   3.25,   2.15,\n",
       "          2.84,   3.33,   3.62,   4.05,   4.01,   4.09,   3.33,   3.15,\n",
       "          3.54,   3.76,   4.67,   6.08,   5.89,   5.88,   5.81,   5.59,\n",
       "          6.  ,   6.24,   7.37,   7.36,   7.07], dtype=float32)}"
      ]
     },
     "execution_count": 12,
     "metadata": {},
     "output_type": "execute_result"
    }
   ],
   "source": [
    "model_sn.predict_in_sample()"
   ]
  },
  {
   "cell_type": "code",
   "execution_count": 13,
   "metadata": {
    "id": "UZMHxf5lMp1f"
   },
   "outputs": [],
   "source": [
    "residuals_train = train.values[12:] - model_sn.predict_in_sample()['fitted'][12:]"
   ]
  },
  {
   "cell_type": "code",
   "execution_count": 14,
   "metadata": {
    "id": "m41Uba_zLEzm"
   },
   "outputs": [],
   "source": [
    "residuals_test = test.values - y_hat_dict['mean']"
   ]
  },
  {
   "cell_type": "code",
   "execution_count": 15,
   "metadata": {
    "id": "dmwcnXqcJS_a"
   },
   "outputs": [],
   "source": [
    "rmse_trian = np.sqrt(np.mean(residuals_train**2))\n",
    "rmse_test = np.sqrt(np.mean(residuals_test**2))"
   ]
  },
  {
   "cell_type": "code",
   "execution_count": 16,
   "metadata": {
    "id": "uSkctGruLI99"
   },
   "outputs": [],
   "source": [
    "tabla_modelos = pd.DataFrame(columns=['Modelo', 'RMSE Train', 'RMSE Test', 'Parametros'], data = [['Seasonal Naive', rmse_trian, rmse_test, 0]])"
   ]
  },
  {
   "cell_type": "code",
   "execution_count": 17,
   "metadata": {
    "colab": {
     "base_uri": "https://localhost:8080/",
     "height": 89
    },
    "id": "EpYdGaOMLa1F",
    "outputId": "2f2c6fb2-0b87-40b7-a082-82f594eaa410"
   },
   "outputs": [
    {
     "data": {
      "text/html": [
       "<div>\n",
       "<style scoped>\n",
       "    .dataframe tbody tr th:only-of-type {\n",
       "        vertical-align: middle;\n",
       "    }\n",
       "\n",
       "    .dataframe tbody tr th {\n",
       "        vertical-align: top;\n",
       "    }\n",
       "\n",
       "    .dataframe thead th {\n",
       "        text-align: right;\n",
       "    }\n",
       "</style>\n",
       "<table border=\"1\" class=\"dataframe\">\n",
       "  <thead>\n",
       "    <tr style=\"text-align: right;\">\n",
       "      <th></th>\n",
       "      <th>Modelo</th>\n",
       "      <th>RMSE Train</th>\n",
       "      <th>RMSE Test</th>\n",
       "      <th>Parametros</th>\n",
       "    </tr>\n",
       "  </thead>\n",
       "  <tbody>\n",
       "    <tr>\n",
       "      <th>0</th>\n",
       "      <td>Seasonal Naive</td>\n",
       "      <td>43.481444</td>\n",
       "      <td>2.923331</td>\n",
       "      <td>0</td>\n",
       "    </tr>\n",
       "  </tbody>\n",
       "</table>\n",
       "</div>"
      ],
      "text/plain": [
       "           Modelo  RMSE Train  RMSE Test  Parametros\n",
       "0  Seasonal Naive   43.481444   2.923331           0"
      ]
     },
     "execution_count": 17,
     "metadata": {},
     "output_type": "execute_result"
    }
   ],
   "source": [
    "tabla_modelos"
   ]
  },
  {
   "cell_type": "markdown",
   "metadata": {
    "id": "bi40LZKtLxtX"
   },
   "source": [
    "## RMSE\n",
    "\n",
    "En machine learning, el RMSE (Root Mean Squared Error o Raíz del Error Cuadrático Medio) es una métrica comúnmente utilizada para evaluar el rendimiento de un modelo en problemas de regresión. Estas son algunas de sus principales ventajas:\n",
    "\n",
    "* Penaliza los errores grandes: Como el RMSE eleva al cuadrado las diferencias\n",
    "entre las predicciones y los valores reales antes de promediar, los errores más grandes tienen un impacto mayor en la métrica final. Esto es útil cuando deseas que el modelo sea particularmente sensible a los errores grandes.\n",
    "* Fácil interpretación: El RMSE está en la misma escala que la variable de salida, lo que facilita su interpretación. Por ejemplo, si estás prediciendo precios de casas en miles de dólares, un RMSE de 5 significa que el error promedio es de 5,000 dólares.\n",
    "* Sensibilidad a cambios pequeños: Debido a la elevación al cuadrado, el RMSE puede detectar cambios pequeños en las predicciones, lo que lo hace adecuado cuando se busca mejorar el modelo finamente.\n",
    "* Comparación entre modelos: RMSE es una métrica estándar ampliamente utilizada, lo que facilita la comparación del rendimiento de diferentes modelos de regresión en un conjunto de datos específico.\n",
    "* Diferenciable: En el contexto del entrenamiento de modelos basados en métodos de optimización como el gradiente descendente, el RMSE es una función diferenciable, lo que permite calcular su gradiente y optimizar los pesos del modelo de manera eficiente.\n",
    "\n",
    "## R-cuadrada\n",
    "\n",
    "La principal diferencia entre RMSE (Root Mean Squared Error) y R-cuadrada (Coeficiente de Determinación) radica en el tipo de información que ofrecen y en cómo se interpretan en el contexto de los modelos de regresión.\n",
    "\n",
    "1. RMSE (Root Mean Squared Error)\n",
    "Métrica de error: El RMSE mide directamente el error promedio de las predicciones de un modelo. Cuantifica la magnitud del error en las predicciones del modelo, representando la distancia media entre los valores observados y los valores predichos.\n",
    "Interpretación: Se interpreta en las mismas unidades que la variable dependiente o de salida. Un RMSE más bajo indica un modelo más preciso, pero no proporciona un sentido claro de qué tan bien el modelo está explicando la variabilidad de los datos.\n",
    "Escala: Depende de las unidades de la variable dependiente. Esto significa que puede ser difícil comparar el RMSE entre modelos aplicados a diferentes conjuntos de datos o variables de diferentes escalas.\n",
    "2. R-cuadrada (Coeficiente de Determinación)\n",
    "* Métrica de ajuste: mide qué proporción de la variabilidad total en los datos de salida está explicada por el modelo. No mide el error en sí, sino qué tan bien las predicciones del modelo capturan las tendencias generales en los datos.\n",
    "* Interpretación: va de 0 a 1 (o puede ser negativo si el modelo es peor que una línea de base), donde:\n",
    "*   =1 significa que el modelo predice perfectamente todos los puntos.\n",
    "\n",
    "*  =0 significa que el modelo no predice mejor que la media de los datos (es decir, no explica nada de la variabilidad).\n",
    "*   < 0 significa que el modelo es peor que simplemente usar la media como predicción.\n",
    "\n",
    "* Escala relativa: Como es una proporción, es más fácil de interpretar y comparar entre diferentes modelos o conjuntos de datos, ya que no está influenciado por las unidades de la variable dependiente.\n",
    "\n",
    "3. Comparación clave:\n",
    "* RMSE se centra en la magnitud del error en las predicciones. Si el RMSE es pequeño, significa que el modelo predice bien en términos absolutos.\n",
    "* R-cuadrada se enfoca en la proporción de la variabilidad de los datos que el modelo puede explicar. Un alto R-cuadrada significa que el modelo está capturando bien las tendencias generales de los datos, pero no garantiza que los errores individuales sean pequeños (ahí es donde entra el RMSE).\n",
    "\n",
    "**En resumen:**\n",
    "\n",
    "* RMSE te dice \"cuánto se están equivocando las predicciones en promedio.\n",
    "* R-cuadrada \"te dice \"qué porcentaje de la variabilidad en los datos está siendo explicado por el modelo.\"\n",
    "\n",
    "Ambas métricas son útiles, pero proporcionan información diferente. Es común usar ambas para evaluar modelos de regresión.\n",
    "\n",
    "$$\n",
    "R_{2} = 1 - \\frac{SS_{res}}{SS_{tot}}\n",
    "$$\n",
    "\n",
    "$ SS_{res} $: es la suma de los cuadrados de los residuos (pronósticos) (también llamado error residual)\n",
    "\n",
    "$ SS_{tot} $: es la suma total de los cuadrados (media) (también llamado total de la variabilidad):"
   ]
  },
  {
   "cell_type": "markdown",
   "metadata": {
    "id": "DF_bHXe1N8f9"
   },
   "source": []
  },
  {
   "cell_type": "code",
   "execution_count": null,
   "metadata": {
    "id": "t5y5hY5GN8Q1"
   },
   "outputs": [],
   "source": []
  },
  {
   "cell_type": "code",
   "execution_count": null,
   "metadata": {
    "id": "fmW3jwHNN8NQ"
   },
   "outputs": [],
   "source": []
  },
  {
   "cell_type": "code",
   "execution_count": null,
   "metadata": {
    "id": "72tPdWr2N8BX"
   },
   "outputs": [],
   "source": []
  },
  {
   "cell_type": "code",
   "execution_count": 36,
   "metadata": {
    "colab": {
     "base_uri": "https://localhost:8080/",
     "height": 111
    },
    "id": "39r_HoRDLcy2",
    "outputId": "c9603103-6476-4cd4-ab66-c456d6a23ed0"
   },
   "outputs": [
    {
     "data": {
      "application/vnd.google.colaboratory.intrinsic+json": {
       "summary": "{\n  \"name\": \"pd\",\n  \"rows\": 2,\n  \"fields\": [\n    {\n      \"column\": \"Modelo\",\n      \"properties\": {\n        \"dtype\": \"string\",\n        \"num_unique_values\": 2,\n        \"samples\": [\n          \"Regresion\",\n          \"Seasonal Naive\"\n        ],\n        \"semantic_type\": \"\",\n        \"description\": \"\"\n      }\n    },\n    {\n      \"column\": \"RMSE\",\n      \"properties\": {\n        \"dtype\": \"number\",\n        \"std\": 0.0,\n        \"min\": 467.0730002850337,\n        \"max\": 467.0730002850337,\n        \"num_unique_values\": 1,\n        \"samples\": [\n          467.0730002850337\n        ],\n        \"semantic_type\": \"\",\n        \"description\": \"\"\n      }\n    },\n    {\n      \"column\": \"Parametros\",\n      \"properties\": {\n        \"dtype\": \"number\",\n        \"std\": 0,\n        \"min\": 0,\n        \"max\": 0,\n        \"num_unique_values\": 1,\n        \"samples\": [\n          0\n        ],\n        \"semantic_type\": \"\",\n        \"description\": \"\"\n      }\n    }\n  ]\n}",
       "type": "dataframe"
      },
      "text/html": [
       "\n",
       "  <div id=\"df-fe69b2b3-a333-411e-b468-e06a9a0baa26\" class=\"colab-df-container\">\n",
       "    <div>\n",
       "<style scoped>\n",
       "    .dataframe tbody tr th:only-of-type {\n",
       "        vertical-align: middle;\n",
       "    }\n",
       "\n",
       "    .dataframe tbody tr th {\n",
       "        vertical-align: top;\n",
       "    }\n",
       "\n",
       "    .dataframe thead th {\n",
       "        text-align: right;\n",
       "    }\n",
       "</style>\n",
       "<table border=\"1\" class=\"dataframe\">\n",
       "  <thead>\n",
       "    <tr style=\"text-align: right;\">\n",
       "      <th></th>\n",
       "      <th>Modelo</th>\n",
       "      <th>RMSE</th>\n",
       "      <th>Parametros</th>\n",
       "    </tr>\n",
       "  </thead>\n",
       "  <tbody>\n",
       "    <tr>\n",
       "      <th>0</th>\n",
       "      <td>Seasonal Naive</td>\n",
       "      <td>467.073</td>\n",
       "      <td>0</td>\n",
       "    </tr>\n",
       "    <tr>\n",
       "      <th>0</th>\n",
       "      <td>Regresion</td>\n",
       "      <td>467.073</td>\n",
       "      <td>0</td>\n",
       "    </tr>\n",
       "  </tbody>\n",
       "</table>\n",
       "</div>\n",
       "    <div class=\"colab-df-buttons\">\n",
       "\n",
       "  <div class=\"colab-df-container\">\n",
       "    <button class=\"colab-df-convert\" onclick=\"convertToInteractive('df-fe69b2b3-a333-411e-b468-e06a9a0baa26')\"\n",
       "            title=\"Convert this dataframe to an interactive table.\"\n",
       "            style=\"display:none;\">\n",
       "\n",
       "  <svg xmlns=\"http://www.w3.org/2000/svg\" height=\"24px\" viewBox=\"0 -960 960 960\">\n",
       "    <path d=\"M120-120v-720h720v720H120Zm60-500h600v-160H180v160Zm220 220h160v-160H400v160Zm0 220h160v-160H400v160ZM180-400h160v-160H180v160Zm440 0h160v-160H620v160ZM180-180h160v-160H180v160Zm440 0h160v-160H620v160Z\"/>\n",
       "  </svg>\n",
       "    </button>\n",
       "\n",
       "  <style>\n",
       "    .colab-df-container {\n",
       "      display:flex;\n",
       "      gap: 12px;\n",
       "    }\n",
       "\n",
       "    .colab-df-convert {\n",
       "      background-color: #E8F0FE;\n",
       "      border: none;\n",
       "      border-radius: 50%;\n",
       "      cursor: pointer;\n",
       "      display: none;\n",
       "      fill: #1967D2;\n",
       "      height: 32px;\n",
       "      padding: 0 0 0 0;\n",
       "      width: 32px;\n",
       "    }\n",
       "\n",
       "    .colab-df-convert:hover {\n",
       "      background-color: #E2EBFA;\n",
       "      box-shadow: 0px 1px 2px rgba(60, 64, 67, 0.3), 0px 1px 3px 1px rgba(60, 64, 67, 0.15);\n",
       "      fill: #174EA6;\n",
       "    }\n",
       "\n",
       "    .colab-df-buttons div {\n",
       "      margin-bottom: 4px;\n",
       "    }\n",
       "\n",
       "    [theme=dark] .colab-df-convert {\n",
       "      background-color: #3B4455;\n",
       "      fill: #D2E3FC;\n",
       "    }\n",
       "\n",
       "    [theme=dark] .colab-df-convert:hover {\n",
       "      background-color: #434B5C;\n",
       "      box-shadow: 0px 1px 3px 1px rgba(0, 0, 0, 0.15);\n",
       "      filter: drop-shadow(0px 1px 2px rgba(0, 0, 0, 0.3));\n",
       "      fill: #FFFFFF;\n",
       "    }\n",
       "  </style>\n",
       "\n",
       "    <script>\n",
       "      const buttonEl =\n",
       "        document.querySelector('#df-fe69b2b3-a333-411e-b468-e06a9a0baa26 button.colab-df-convert');\n",
       "      buttonEl.style.display =\n",
       "        google.colab.kernel.accessAllowed ? 'block' : 'none';\n",
       "\n",
       "      async function convertToInteractive(key) {\n",
       "        const element = document.querySelector('#df-fe69b2b3-a333-411e-b468-e06a9a0baa26');\n",
       "        const dataTable =\n",
       "          await google.colab.kernel.invokeFunction('convertToInteractive',\n",
       "                                                    [key], {});\n",
       "        if (!dataTable) return;\n",
       "\n",
       "        const docLinkHtml = 'Like what you see? Visit the ' +\n",
       "          '<a target=\"_blank\" href=https://colab.research.google.com/notebooks/data_table.ipynb>data table notebook</a>'\n",
       "          + ' to learn more about interactive tables.';\n",
       "        element.innerHTML = '';\n",
       "        dataTable['output_type'] = 'display_data';\n",
       "        await google.colab.output.renderOutput(dataTable, element);\n",
       "        const docLink = document.createElement('div');\n",
       "        docLink.innerHTML = docLinkHtml;\n",
       "        element.appendChild(docLink);\n",
       "      }\n",
       "    </script>\n",
       "  </div>\n",
       "\n",
       "\n",
       "<div id=\"df-62e3e0df-f3e9-44d7-be0e-4368f0b340b5\">\n",
       "  <button class=\"colab-df-quickchart\" onclick=\"quickchart('df-62e3e0df-f3e9-44d7-be0e-4368f0b340b5')\"\n",
       "            title=\"Suggest charts\"\n",
       "            style=\"display:none;\">\n",
       "\n",
       "<svg xmlns=\"http://www.w3.org/2000/svg\" height=\"24px\"viewBox=\"0 0 24 24\"\n",
       "     width=\"24px\">\n",
       "    <g>\n",
       "        <path d=\"M19 3H5c-1.1 0-2 .9-2 2v14c0 1.1.9 2 2 2h14c1.1 0 2-.9 2-2V5c0-1.1-.9-2-2-2zM9 17H7v-7h2v7zm4 0h-2V7h2v10zm4 0h-2v-4h2v4z\"/>\n",
       "    </g>\n",
       "</svg>\n",
       "  </button>\n",
       "\n",
       "<style>\n",
       "  .colab-df-quickchart {\n",
       "      --bg-color: #E8F0FE;\n",
       "      --fill-color: #1967D2;\n",
       "      --hover-bg-color: #E2EBFA;\n",
       "      --hover-fill-color: #174EA6;\n",
       "      --disabled-fill-color: #AAA;\n",
       "      --disabled-bg-color: #DDD;\n",
       "  }\n",
       "\n",
       "  [theme=dark] .colab-df-quickchart {\n",
       "      --bg-color: #3B4455;\n",
       "      --fill-color: #D2E3FC;\n",
       "      --hover-bg-color: #434B5C;\n",
       "      --hover-fill-color: #FFFFFF;\n",
       "      --disabled-bg-color: #3B4455;\n",
       "      --disabled-fill-color: #666;\n",
       "  }\n",
       "\n",
       "  .colab-df-quickchart {\n",
       "    background-color: var(--bg-color);\n",
       "    border: none;\n",
       "    border-radius: 50%;\n",
       "    cursor: pointer;\n",
       "    display: none;\n",
       "    fill: var(--fill-color);\n",
       "    height: 32px;\n",
       "    padding: 0;\n",
       "    width: 32px;\n",
       "  }\n",
       "\n",
       "  .colab-df-quickchart:hover {\n",
       "    background-color: var(--hover-bg-color);\n",
       "    box-shadow: 0 1px 2px rgba(60, 64, 67, 0.3), 0 1px 3px 1px rgba(60, 64, 67, 0.15);\n",
       "    fill: var(--button-hover-fill-color);\n",
       "  }\n",
       "\n",
       "  .colab-df-quickchart-complete:disabled,\n",
       "  .colab-df-quickchart-complete:disabled:hover {\n",
       "    background-color: var(--disabled-bg-color);\n",
       "    fill: var(--disabled-fill-color);\n",
       "    box-shadow: none;\n",
       "  }\n",
       "\n",
       "  .colab-df-spinner {\n",
       "    border: 2px solid var(--fill-color);\n",
       "    border-color: transparent;\n",
       "    border-bottom-color: var(--fill-color);\n",
       "    animation:\n",
       "      spin 1s steps(1) infinite;\n",
       "  }\n",
       "\n",
       "  @keyframes spin {\n",
       "    0% {\n",
       "      border-color: transparent;\n",
       "      border-bottom-color: var(--fill-color);\n",
       "      border-left-color: var(--fill-color);\n",
       "    }\n",
       "    20% {\n",
       "      border-color: transparent;\n",
       "      border-left-color: var(--fill-color);\n",
       "      border-top-color: var(--fill-color);\n",
       "    }\n",
       "    30% {\n",
       "      border-color: transparent;\n",
       "      border-left-color: var(--fill-color);\n",
       "      border-top-color: var(--fill-color);\n",
       "      border-right-color: var(--fill-color);\n",
       "    }\n",
       "    40% {\n",
       "      border-color: transparent;\n",
       "      border-right-color: var(--fill-color);\n",
       "      border-top-color: var(--fill-color);\n",
       "    }\n",
       "    60% {\n",
       "      border-color: transparent;\n",
       "      border-right-color: var(--fill-color);\n",
       "    }\n",
       "    80% {\n",
       "      border-color: transparent;\n",
       "      border-right-color: var(--fill-color);\n",
       "      border-bottom-color: var(--fill-color);\n",
       "    }\n",
       "    90% {\n",
       "      border-color: transparent;\n",
       "      border-bottom-color: var(--fill-color);\n",
       "    }\n",
       "  }\n",
       "</style>\n",
       "\n",
       "  <script>\n",
       "    async function quickchart(key) {\n",
       "      const quickchartButtonEl =\n",
       "        document.querySelector('#' + key + ' button');\n",
       "      quickchartButtonEl.disabled = true;  // To prevent multiple clicks.\n",
       "      quickchartButtonEl.classList.add('colab-df-spinner');\n",
       "      try {\n",
       "        const charts = await google.colab.kernel.invokeFunction(\n",
       "            'suggestCharts', [key], {});\n",
       "      } catch (error) {\n",
       "        console.error('Error during call to suggestCharts:', error);\n",
       "      }\n",
       "      quickchartButtonEl.classList.remove('colab-df-spinner');\n",
       "      quickchartButtonEl.classList.add('colab-df-quickchart-complete');\n",
       "    }\n",
       "    (() => {\n",
       "      let quickchartButtonEl =\n",
       "        document.querySelector('#df-62e3e0df-f3e9-44d7-be0e-4368f0b340b5 button');\n",
       "      quickchartButtonEl.style.display =\n",
       "        google.colab.kernel.accessAllowed ? 'block' : 'none';\n",
       "    })();\n",
       "  </script>\n",
       "</div>\n",
       "\n",
       "    </div>\n",
       "  </div>\n"
      ],
      "text/plain": [
       "           Modelo     RMSE  Parametros\n",
       "0  Seasonal Naive  467.073           0\n",
       "0       Regresion  467.073           0"
      ]
     },
     "execution_count": 36,
     "metadata": {},
     "output_type": "execute_result"
    }
   ],
   "source": [
    "pd.concat([tabla_modelos, pd.DataFrame(columns=['Modelo', 'RMSE', 'Parametros'], data = [['Regresion', rmse, 0]])])"
   ]
  },
  {
   "cell_type": "code",
   "execution_count": null,
   "metadata": {
    "id": "jTcAx2IKLoFC"
   },
   "outputs": [],
   "source": []
  }
 ],
 "metadata": {
  "colab": {
   "authorship_tag": "ABX9TyNJcONKHwQ1txpKWIFeV+cY",
   "include_colab_link": true,
   "provenance": []
  },
  "kernelspec": {
   "display_name": "Python 3 (ipykernel)",
   "language": "python",
   "name": "python3"
  },
  "language_info": {
   "codemirror_mode": {
    "name": "ipython",
    "version": 3
   },
   "file_extension": ".py",
   "mimetype": "text/x-python",
   "name": "python",
   "nbconvert_exporter": "python",
   "pygments_lexer": "ipython3",
   "version": "3.9.12"
  }
 },
 "nbformat": 4,
 "nbformat_minor": 1
}
